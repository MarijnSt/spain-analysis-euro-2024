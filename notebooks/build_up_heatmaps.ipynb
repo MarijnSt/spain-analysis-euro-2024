{
 "cells": [
  {
   "cell_type": "code",
   "execution_count": 1,
   "id": "a7b2f9a6",
   "metadata": {},
   "outputs": [],
   "source": [
    "import sys\n",
    "import os\n",
    "import pandas as pd\n",
    "\n",
    "# Add the project root to the Python path\n",
    "sys.path.append(os.path.join(os.getcwd(), '..'))\n",
    "\n",
    "# Import the project modules\n",
    "from src.config import setup_logging\n",
    "from src.extract import fetch_statsbomb_event_data\n",
    "from src.transform import transform_to_progressive_actions, transform_to_turnovers\n",
    "\n",
    "# Reload modules when code is changed (uncomment for development)\n",
    "%load_ext autoreload\n",
    "%autoreload 2\n",
    "\n",
    "# Init logging\n",
    "logger = setup_logging(log_file=\"../logs/build_up_heatmaps.log\")"
   ]
  },
  {
   "cell_type": "code",
   "execution_count": 2,
   "id": "38c8bea5",
   "metadata": {},
   "outputs": [
    {
     "name": "stderr",
     "output_type": "stream",
     "text": [
      "2025-10-02 16:00:42,014 - src.extract.statsbomb_data - INFO - Fetching StatsBomb event data for Europe - UEFA Euro - 2024 - male\n",
      "/opt/anaconda3/lib/python3.12/site-packages/statsbombpy/api_client.py:21: NoAuthWarning: credentials were not supplied. open data access only\n",
      "  warnings.warn(\n",
      "/opt/anaconda3/lib/python3.12/site-packages/statsbombpy/api_client.py:21: NoAuthWarning: credentials were not supplied. open data access only\n",
      "  warnings.warn(\n",
      "/opt/anaconda3/lib/python3.12/site-packages/statsbombpy/api_client.py:21: NoAuthWarning: credentials were not supplied. open data access only\n",
      "  warnings.warn(\n",
      "/opt/anaconda3/lib/python3.12/site-packages/statsbombpy/api_client.py:21: NoAuthWarning: credentials were not supplied. open data access only\n",
      "  warnings.warn(\n",
      "/opt/anaconda3/lib/python3.12/site-packages/statsbombpy/api_client.py:21: NoAuthWarning: credentials were not supplied. open data access only\n",
      "  warnings.warn(\n",
      "/opt/anaconda3/lib/python3.12/site-packages/statsbombpy/api_client.py:21: NoAuthWarning: credentials were not supplied. open data access only\n",
      "  warnings.warn(\n",
      "2025-10-02 16:00:53,155 - src.extract.statsbomb_data - INFO - Found 187858 events!\n"
     ]
    }
   ],
   "source": [
    "events = fetch_statsbomb_event_data()\n",
    "#list(events.columns)"
   ]
  },
  {
   "cell_type": "code",
   "execution_count": 3,
   "id": "ca77bf7b",
   "metadata": {},
   "outputs": [
    {
     "name": "stderr",
     "output_type": "stream",
     "text": [
      "2025-10-02 16:00:53,214 - src.transform.build_up_events - INFO - Transforming 187858 records from events data to progressive actions...\n",
      "2025-10-02 16:00:53,830 - src.transform.build_up_events - INFO - Found 87760 actions (passes and carries).\n",
      "2025-10-02 16:00:54,051 - src.transform.build_up_events - INFO - Found 14870 progressive actions (passes and carries).\n",
      "2025-10-02 16:00:54,076 - src.transform.build_up_events - INFO - Done! Found 8771 progressive actions in own half (x < 60).\n"
     ]
    },
    {
     "name": "stdout",
     "output_type": "stream",
     "text": [
      "<class 'pandas.core.frame.DataFrame'>\n",
      "Index: 8771 entries, 340 to 149941\n",
      "Data columns (total 14 columns):\n",
      " #   Column          Non-Null Count  Dtype  \n",
      "---  ------          --------------  -----  \n",
      " 0   id              8771 non-null   object \n",
      " 1   match_id        8771 non-null   int64  \n",
      " 2   team            8771 non-null   object \n",
      " 3   player          8771 non-null   object \n",
      " 4   position        8771 non-null   object \n",
      " 5   timestamp       8771 non-null   object \n",
      " 6   x               8771 non-null   float64\n",
      " 7   y               8771 non-null   float64\n",
      " 8   end_x           8771 non-null   float64\n",
      " 9   end_y           8771 non-null   float64\n",
      " 10  progression     8771 non-null   float64\n",
      " 11  type            8771 non-null   object \n",
      " 12  under_pressure  1408 non-null   object \n",
      " 13  possession      8771 non-null   int64  \n",
      "dtypes: float64(5), int64(2), object(7)\n",
      "memory usage: 1.0+ MB\n"
     ]
    }
   ],
   "source": [
    "prog_actions = transform_to_progressive_actions(events)\n",
    "prog_actions.info()"
   ]
  },
  {
   "cell_type": "code",
   "execution_count": 4,
   "id": "10c17fbc",
   "metadata": {},
   "outputs": [
    {
     "name": "stderr",
     "output_type": "stream",
     "text": [
      "2025-10-02 16:00:54,148 - src.transform.build_up_events - INFO - Transforming 187858 records from events data to turnovers data...\n",
      "2025-10-02 16:00:55,775 - src.transform.build_up_events - INFO - Found 643 turnovers by type (Dispossessed and Miscontrol).\n",
      "2025-10-02 16:00:55,794 - src.transform.build_up_events - INFO - Found 93 turnovers from 50/50s.\n",
      "2025-10-02 16:00:55,873 - src.transform.build_up_events - INFO - Found 3634 turnovers from passes.\n",
      "2025-10-02 16:00:55,878 - src.transform.build_up_events - INFO - Found 154 turnovers from dribbles.\n",
      "2025-10-02 16:00:55,889 - src.transform.build_up_events - INFO - Found 1511 turnovers from incomplete ball receipts.\n",
      "2025-10-02 16:00:55,936 - src.transform.build_up_events - INFO - Found 138 turnovers from duels when in possession.\n",
      "2025-10-02 16:00:56,066 - src.transform.build_up_events - INFO - Found 6173 turnovers.\n",
      "2025-10-02 16:00:56,091 - src.transform.build_up_events - INFO - Filtered out duplicates. 6173 turnovers left.\n"
     ]
    },
    {
     "name": "stdout",
     "output_type": "stream",
     "text": [
      "<class 'pandas.core.frame.DataFrame'>\n",
      "Index: 6173 entries, 164524 to 180166\n",
      "Data columns (total 21 columns):\n",
      " #   Column                Non-Null Count  Dtype  \n",
      "---  ------                --------------  -----  \n",
      " 0   id                    6173 non-null   object \n",
      " 1   match_id              6173 non-null   int64  \n",
      " 2   team                  6173 non-null   object \n",
      " 3   player                6173 non-null   object \n",
      " 4   position              6173 non-null   object \n",
      " 5   timestamp             6173 non-null   object \n",
      " 6   possession            6173 non-null   int64  \n",
      " 7   possession_team       6173 non-null   object \n",
      " 8   x                     6173 non-null   float64\n",
      " 9   y                     6173 non-null   float64\n",
      " 10  type                  6173 non-null   object \n",
      " 11  50_50                 93 non-null     object \n",
      " 12  pass_outcome          3634 non-null   object \n",
      " 13  pass_end_location     3634 non-null   object \n",
      " 14  pass_type             874 non-null    object \n",
      " 15  dribble_outcome       154 non-null    object \n",
      " 16  ball_receipt_outcome  1511 non-null   object \n",
      " 17  duel_type             138 non-null    object \n",
      " 18  duel_outcome          10 non-null     object \n",
      " 19  under_pressure        1835 non-null   object \n",
      " 20  counterpress          33 non-null     object \n",
      "dtypes: float64(2), int64(2), object(17)\n",
      "memory usage: 1.0+ MB\n"
     ]
    }
   ],
   "source": [
    "turnovers = transform_to_turnovers(events)\n",
    "turnovers.info()"
   ]
  }
 ],
 "metadata": {
  "kernelspec": {
   "display_name": "base",
   "language": "python",
   "name": "python3"
  },
  "language_info": {
   "codemirror_mode": {
    "name": "ipython",
    "version": 3
   },
   "file_extension": ".py",
   "mimetype": "text/x-python",
   "name": "python",
   "nbconvert_exporter": "python",
   "pygments_lexer": "ipython3",
   "version": "3.12.2"
  }
 },
 "nbformat": 4,
 "nbformat_minor": 5
}
